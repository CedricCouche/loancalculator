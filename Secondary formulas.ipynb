{
 "cells": [
  {
   "cell_type": "markdown",
   "metadata": {},
   "source": [
    "# Wikipedia formulas"
   ]
  },
  {
   "cell_type": "markdown",
   "metadata": {},
   "source": [
    "Formulas found on wikipedia article : https://fr.wikipedia.org/wiki/Int%C3%A9r%C3%AAts_compos%C3%A9s"
   ]
  },
  {
   "cell_type": "markdown",
   "metadata": {},
   "source": [
    "## imports"
   ]
  },
  {
   "cell_type": "code",
   "execution_count": 2,
   "metadata": {},
   "outputs": [],
   "source": [
    "import numpy as np"
   ]
  },
  {
   "cell_type": "markdown",
   "metadata": {},
   "source": [
    "## Functions"
   ]
  },
  {
   "cell_type": "code",
   "execution_count": 15,
   "metadata": {},
   "outputs": [],
   "source": [
    "def loan_vf(vi : float = 1000, fper : int = 12 , r : float = 0.05, per : int = 3):\n",
    "    \"\"\" Return the final value for an inital value, a rate and a number of periods and fraction of periods\n",
    "\n",
    "    Args:\n",
    "        vi (int): initial value\n",
    "        fper (int): fraction of period\n",
    "        r (float): annual interest rate. e.g. 0.03 for 3%\n",
    "        per (int): number of periods (years)\n",
    "\n",
    "    Returns:\n",
    "        float : Final value\n",
    "    \"\"\"\n",
    "\n",
    "    vf = vi * ((1 + (r / fper)) ** (fper * per))\n",
    "\n",
    "    return vf\n",
    "\n",
    "\n",
    "def loan_vi(vf : float = 1000.0, r : float = 1.0, per : int = 1):\n",
    "    \"\"\" Return an initial value for an number of period, rate and a final value\n",
    "\n",
    "    Args:\n",
    "\t    vf (float): \n",
    "        r (float): annual interest rate. e.g. 0.03 for 3%\n",
    "        per (int): number of years\n",
    "\n",
    "    Returns:\n",
    "        float: Final value\n",
    "    \"\"\"\n",
    "    \n",
    "    vi = vf / ( (1 + r )** per )\n",
    "    \n",
    "    return vi\n",
    "\n",
    "\n",
    "def loan_r(vi : int = 1000, vf : int = 1100, per : int = 1):\n",
    "    \"\"\" Return the rate given a initial capital, final value and the number of period\n",
    "\n",
    "    Args:\n",
    "        vi (int): initial value\n",
    "        per (int): number of periods (years)\n",
    "        vf (int): final value\n",
    "\n",
    "    Returns:\n",
    "        float: rate\n",
    "    \"\"\"\n",
    "    \n",
    "    r = (vf / vi)**(1 / per) -1\n",
    "    \n",
    "    return r\n",
    "\n",
    "\n",
    "def loan_per(vf : int = 1000, vi : int = 100, r : float = 1.0):\n",
    "    \"\"\" Return the number of periods required given a final \n",
    "        value, an initial capital and interest rate\n",
    "\n",
    "    Args:\n",
    "        vi (int): initial value\n",
    "        vf (int): final value\n",
    "        r (float): _description_.\n",
    "    \n",
    "    Returns:\n",
    "\t    int: number of periods\n",
    "    \"\"\"\n",
    "    \n",
    "    per = np.log( vf / vi) / np.log(1 + r)\n",
    "    \n",
    "    return per"
   ]
  },
  {
   "cell_type": "markdown",
   "metadata": {},
   "source": [
    "## Variables"
   ]
  },
  {
   "cell_type": "code",
   "execution_count": 16,
   "metadata": {},
   "outputs": [],
   "source": [
    "c1 = 100000\n",
    "m1 = 12 \n",
    "r1 = 0.0300\n",
    "y1 = 25\n",
    "fv1 = c1 + 42865"
   ]
  },
  {
   "cell_type": "markdown",
   "metadata": {},
   "source": [
    "## tests"
   ]
  },
  {
   "cell_type": "code",
   "execution_count": 17,
   "metadata": {},
   "outputs": [
    {
     "name": "stdout",
     "output_type": "stream",
     "text": [
      "Final value :  211501.95576601895\n",
      "Total interest :  111501.95576601895\n",
      "Capital :  68233.11965256694\n",
      "Ratio :  0.014371488656058862\n",
      "Necessary periodes :  0.5146525188750108\n"
     ]
    }
   ],
   "source": [
    "print(\"Final value : \", loan_vf(vi = c1, fper = m1 , r = r1, per = y1))\n",
    "print(\"Total interest : \", loan_vf(vi = c1, fper = m1 , r = r1, per = y1) - c1)\n",
    "print(\"Capital : \", loan_vi(vf = fv1, r = r1, per = y1))\n",
    "print(\"Ratio : \", loan_r(vi = c1, vf= fv1, per = y1))\n",
    "print(\"Necessary periodes : \",loan_per(vi = c1, vf = fv1))"
   ]
  }
 ],
 "metadata": {
  "kernelspec": {
   "display_name": ".venv",
   "language": "python",
   "name": "python3"
  },
  "language_info": {
   "codemirror_mode": {
    "name": "ipython",
    "version": 3
   },
   "file_extension": ".py",
   "mimetype": "text/x-python",
   "name": "python",
   "nbconvert_exporter": "python",
   "pygments_lexer": "ipython3",
   "version": "3.12.8"
  }
 },
 "nbformat": 4,
 "nbformat_minor": 2
}
