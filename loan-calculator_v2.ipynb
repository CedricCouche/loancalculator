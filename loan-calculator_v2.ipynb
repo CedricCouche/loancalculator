{
 "cells": [
  {
   "cell_type": "code",
   "execution_count": 2,
   "metadata": {},
   "outputs": [],
   "source": [
    "# For all functio\n",
    "import loanutils3"
   ]
  },
  {
   "cell_type": "code",
   "execution_count": 4,
   "metadata": {},
   "outputs": [
    {
     "ename": "ValueError",
     "evalue": "Currency formatting is not possible using the 'C' locale.",
     "output_type": "error",
     "traceback": [
      "\u001b[0;31m---------------------------------------------------------------------------\u001b[0m",
      "\u001b[0;31mValueError\u001b[0m                                Traceback (most recent call last)",
      "Cell \u001b[0;32mIn[4], line 5\u001b[0m\n\u001b[1;32m      2\u001b[0m loan \u001b[38;5;241m=\u001b[39m loanutils3\u001b[38;5;241m.\u001b[39mLoan(capital\u001b[38;5;241m=\u001b[39m\u001b[38;5;241m100000\u001b[39m, annual_rate\u001b[38;5;241m=\u001b[39m\u001b[38;5;241m0.05\u001b[39m, years\u001b[38;5;241m=\u001b[39m\u001b[38;5;241m30\u001b[39m, periods_per_year\u001b[38;5;241m=\u001b[39m\u001b[38;5;241m12\u001b[39m)\n\u001b[1;32m      4\u001b[0m \u001b[38;5;66;03m# Generate the PDF summary\u001b[39;00m\n\u001b[0;32m----> 5\u001b[0m \u001b[43mloan\u001b[49m\u001b[38;5;241;43m.\u001b[39;49m\u001b[43mgenerate_summary_pdf\u001b[49m\u001b[43m(\u001b[49m\u001b[38;5;124;43m\"\u001b[39;49m\u001b[38;5;124;43mmortgage_summary.pdf\u001b[39;49m\u001b[38;5;124;43m\"\u001b[39;49m\u001b[43m)\u001b[49m\n",
      "File \u001b[0;32m~/Documents/loancalculator/loanutils3.py:147\u001b[0m, in \u001b[0;36mLoan.generate_summary_pdf\u001b[0;34m(self, filename)\u001b[0m\n\u001b[1;32m    144\u001b[0m c\u001b[38;5;241m.\u001b[39msetFont(\u001b[38;5;124m\"\u001b[39m\u001b[38;5;124mHelvetica\u001b[39m\u001b[38;5;124m\"\u001b[39m, \u001b[38;5;241m12\u001b[39m)\n\u001b[1;32m    145\u001b[0m y \u001b[38;5;241m=\u001b[39m height \u001b[38;5;241m-\u001b[39m \u001b[38;5;241m100\u001b[39m\n\u001b[1;32m    146\u001b[0m details \u001b[38;5;241m=\u001b[39m [\n\u001b[0;32m--> 147\u001b[0m     (\u001b[38;5;124m\"\u001b[39m\u001b[38;5;124mPrincipal\u001b[39m\u001b[38;5;124m\"\u001b[39m, \u001b[38;5;124mf\u001b[39m\u001b[38;5;124m\"\u001b[39m\u001b[38;5;132;01m{\u001b[39;00m\u001b[43mlocale\u001b[49m\u001b[38;5;241;43m.\u001b[39;49m\u001b[43mcurrency\u001b[49m\u001b[43m(\u001b[49m\u001b[38;5;28;43mself\u001b[39;49m\u001b[38;5;241;43m.\u001b[39;49m\u001b[43mcapital\u001b[49m\u001b[43m,\u001b[49m\u001b[38;5;250;43m \u001b[39;49m\u001b[43mgrouping\u001b[49m\u001b[38;5;241;43m=\u001b[39;49m\u001b[38;5;28;43;01mTrue\u001b[39;49;00m\u001b[43m)\u001b[49m\u001b[38;5;132;01m}\u001b[39;00m\u001b[38;5;124m\"\u001b[39m),\n\u001b[1;32m    148\u001b[0m     (\u001b[38;5;124m\"\u001b[39m\u001b[38;5;124mAnnual Rate\u001b[39m\u001b[38;5;124m\"\u001b[39m, \u001b[38;5;124mf\u001b[39m\u001b[38;5;124m\"\u001b[39m\u001b[38;5;132;01m{\u001b[39;00m\u001b[38;5;28mself\u001b[39m\u001b[38;5;241m.\u001b[39mannual_rate\u001b[38;5;250m \u001b[39m\u001b[38;5;241m*\u001b[39m\u001b[38;5;250m \u001b[39m\u001b[38;5;241m100\u001b[39m\u001b[38;5;132;01m:\u001b[39;00m\u001b[38;5;124m.2f\u001b[39m\u001b[38;5;132;01m}\u001b[39;00m\u001b[38;5;124m%\u001b[39m\u001b[38;5;124m\"\u001b[39m),\n\u001b[1;32m    149\u001b[0m     (\u001b[38;5;124m\"\u001b[39m\u001b[38;5;124mTerm (Years)\u001b[39m\u001b[38;5;124m\"\u001b[39m, \u001b[38;5;124mf\u001b[39m\u001b[38;5;124m\"\u001b[39m\u001b[38;5;132;01m{\u001b[39;00m\u001b[38;5;28mself\u001b[39m\u001b[38;5;241m.\u001b[39myears\u001b[38;5;132;01m}\u001b[39;00m\u001b[38;5;124m\"\u001b[39m),\n\u001b[1;32m    150\u001b[0m     (\u001b[38;5;124m\"\u001b[39m\u001b[38;5;124mPeriods/Year\u001b[39m\u001b[38;5;124m\"\u001b[39m, \u001b[38;5;124mf\u001b[39m\u001b[38;5;124m\"\u001b[39m\u001b[38;5;132;01m{\u001b[39;00m\u001b[38;5;28mself\u001b[39m\u001b[38;5;241m.\u001b[39mperiods_per_year\u001b[38;5;132;01m}\u001b[39;00m\u001b[38;5;124m\"\u001b[39m),\n\u001b[1;32m    151\u001b[0m     (\u001b[38;5;124m\"\u001b[39m\u001b[38;5;124mPeriodic Rate\u001b[39m\u001b[38;5;124m\"\u001b[39m, \u001b[38;5;124mf\u001b[39m\u001b[38;5;124m\"\u001b[39m\u001b[38;5;132;01m{\u001b[39;00m\u001b[38;5;28mself\u001b[39m\u001b[38;5;241m.\u001b[39mperiodic_rate\u001b[38;5;250m \u001b[39m\u001b[38;5;241m*\u001b[39m\u001b[38;5;250m \u001b[39m\u001b[38;5;241m100\u001b[39m\u001b[38;5;132;01m:\u001b[39;00m\u001b[38;5;124m.2f\u001b[39m\u001b[38;5;132;01m}\u001b[39;00m\u001b[38;5;124m%\u001b[39m\u001b[38;5;124m\"\u001b[39m),\n\u001b[1;32m    152\u001b[0m     (\u001b[38;5;124m\"\u001b[39m\u001b[38;5;124mTotal Payments\u001b[39m\u001b[38;5;124m\"\u001b[39m, \u001b[38;5;124mf\u001b[39m\u001b[38;5;124m\"\u001b[39m\u001b[38;5;132;01m{\u001b[39;00m\u001b[38;5;28mself\u001b[39m\u001b[38;5;241m.\u001b[39mnper\u001b[38;5;132;01m}\u001b[39;00m\u001b[38;5;124m\"\u001b[39m),\n\u001b[1;32m    153\u001b[0m     (\u001b[38;5;124m\"\u001b[39m\u001b[38;5;124mPeriodic Payment\u001b[39m\u001b[38;5;124m\"\u001b[39m, \u001b[38;5;124mf\u001b[39m\u001b[38;5;124m\"\u001b[39m\u001b[38;5;132;01m{\u001b[39;00mlocale\u001b[38;5;241m.\u001b[39mcurrency(\u001b[38;5;241m-\u001b[39m\u001b[38;5;28mself\u001b[39m\u001b[38;5;241m.\u001b[39mPMT(),\u001b[38;5;250m \u001b[39mgrouping\u001b[38;5;241m=\u001b[39m\u001b[38;5;28;01mTrue\u001b[39;00m)\u001b[38;5;132;01m}\u001b[39;00m\u001b[38;5;124m\"\u001b[39m),\n\u001b[1;32m    154\u001b[0m     (\u001b[38;5;124m\"\u001b[39m\u001b[38;5;124mTotal Interest Paid\u001b[39m\u001b[38;5;124m\"\u001b[39m, \u001b[38;5;124mf\u001b[39m\u001b[38;5;124m\"\u001b[39m\u001b[38;5;132;01m{\u001b[39;00mlocale\u001b[38;5;241m.\u001b[39mcurrency(\u001b[38;5;28mself\u001b[39m\u001b[38;5;241m.\u001b[39mtotal_interest_paid(),\u001b[38;5;250m \u001b[39mgrouping\u001b[38;5;241m=\u001b[39m\u001b[38;5;28;01mTrue\u001b[39;00m)\u001b[38;5;132;01m}\u001b[39;00m\u001b[38;5;124m\"\u001b[39m),\n\u001b[1;32m    155\u001b[0m     (\u001b[38;5;124m\"\u001b[39m\u001b[38;5;124mTotal Principal Paid\u001b[39m\u001b[38;5;124m\"\u001b[39m, \u001b[38;5;124mf\u001b[39m\u001b[38;5;124m\"\u001b[39m\u001b[38;5;132;01m{\u001b[39;00mlocale\u001b[38;5;241m.\u001b[39mcurrency(\u001b[38;5;28mself\u001b[39m\u001b[38;5;241m.\u001b[39mtotal_principal_paid(),\u001b[38;5;250m \u001b[39mgrouping\u001b[38;5;241m=\u001b[39m\u001b[38;5;28;01mTrue\u001b[39;00m)\u001b[38;5;132;01m}\u001b[39;00m\u001b[38;5;124m\"\u001b[39m)\n\u001b[1;32m    156\u001b[0m ]\n\u001b[1;32m    158\u001b[0m \u001b[38;5;66;03m# Draw details\u001b[39;00m\n\u001b[1;32m    159\u001b[0m \u001b[38;5;28;01mfor\u001b[39;00m label, value \u001b[38;5;129;01min\u001b[39;00m details:\n",
      "File \u001b[0;32m/usr/lib/python3.12/locale.py:258\u001b[0m, in \u001b[0;36mcurrency\u001b[0;34m(val, symbol, grouping, international)\u001b[0m\n\u001b[1;32m    256\u001b[0m digits \u001b[38;5;241m=\u001b[39m conv[international \u001b[38;5;129;01mand\u001b[39;00m \u001b[38;5;124m'\u001b[39m\u001b[38;5;124mint_frac_digits\u001b[39m\u001b[38;5;124m'\u001b[39m \u001b[38;5;129;01mor\u001b[39;00m \u001b[38;5;124m'\u001b[39m\u001b[38;5;124mfrac_digits\u001b[39m\u001b[38;5;124m'\u001b[39m]\n\u001b[1;32m    257\u001b[0m \u001b[38;5;28;01mif\u001b[39;00m digits \u001b[38;5;241m==\u001b[39m \u001b[38;5;241m127\u001b[39m:\n\u001b[0;32m--> 258\u001b[0m     \u001b[38;5;28;01mraise\u001b[39;00m \u001b[38;5;167;01mValueError\u001b[39;00m(\u001b[38;5;124m\"\u001b[39m\u001b[38;5;124mCurrency formatting is not possible using \u001b[39m\u001b[38;5;124m\"\u001b[39m\n\u001b[1;32m    259\u001b[0m                      \u001b[38;5;124m\"\u001b[39m\u001b[38;5;124mthe \u001b[39m\u001b[38;5;124m'\u001b[39m\u001b[38;5;124mC\u001b[39m\u001b[38;5;124m'\u001b[39m\u001b[38;5;124m locale.\u001b[39m\u001b[38;5;124m\"\u001b[39m)\n\u001b[1;32m    261\u001b[0m s \u001b[38;5;241m=\u001b[39m _localize(\u001b[38;5;124mf\u001b[39m\u001b[38;5;124m'\u001b[39m\u001b[38;5;132;01m{\u001b[39;00m\u001b[38;5;28mabs\u001b[39m(val)\u001b[38;5;132;01m:\u001b[39;00m\u001b[38;5;124m.\u001b[39m\u001b[38;5;132;01m{\u001b[39;00mdigits\u001b[38;5;132;01m}\u001b[39;00m\u001b[38;5;124mf\u001b[39m\u001b[38;5;132;01m}\u001b[39;00m\u001b[38;5;124m'\u001b[39m, grouping, monetary\u001b[38;5;241m=\u001b[39m\u001b[38;5;28;01mTrue\u001b[39;00m)\n\u001b[1;32m    262\u001b[0m \u001b[38;5;66;03m# '<' and '>' are markers if the sign must be inserted between symbol and value\u001b[39;00m\n",
      "\u001b[0;31mValueError\u001b[0m: Currency formatting is not possible using the 'C' locale."
     ]
    }
   ],
   "source": [
    "# Initialize the loan\n",
    "loan = loanutils3.Loan(capital=100000, annual_rate=0.05, years=30, periods_per_year=12)\n",
    "\n",
    "# Generate the PDF summary\n",
    "loan.generate_summary_pdf(\"mortgage_summary.pdf\")\n",
    "\n"
   ]
  }
 ],
 "metadata": {
  "kernelspec": {
   "display_name": ".venv",
   "language": "python",
   "name": "python3"
  },
  "language_info": {
   "codemirror_mode": {
    "name": "ipython",
    "version": 3
   },
   "file_extension": ".py",
   "mimetype": "text/x-python",
   "name": "python",
   "nbconvert_exporter": "python",
   "pygments_lexer": "ipython3",
   "version": "3.12.8"
  }
 },
 "nbformat": 4,
 "nbformat_minor": 2
}
