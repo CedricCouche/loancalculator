{
 "cells": [
  {
   "cell_type": "markdown",
   "metadata": {},
   "source": [
    "# Loan calculator\n",
    "\n",
    "Version 1.0"
   ]
  },
  {
   "cell_type": "markdown",
   "metadata": {},
   "source": [
    "## Imports"
   ]
  },
  {
   "cell_type": "code",
   "execution_count": null,
   "metadata": {},
   "outputs": [],
   "source": [
    "import numpy as np"
   ]
  },
  {
   "cell_type": "markdown",
   "metadata": {},
   "source": [
    "## Functions"
   ]
  },
  {
   "cell_type": "code",
   "execution_count": 2,
   "metadata": {},
   "outputs": [],
   "source": [
    "def PMT(Pv:int =1000, rate:float=1.0, per:int=1, fper:int=1):\n",
    "    \"\"\" Calculates the payment for a loan based on constant payments and a constant interest rate.\n",
    "    Args:\n",
    "        - Pv : Present Value (starting value of the loan)\n",
    "        - r : Annual Percent Rate (APR)\n",
    "        - fn : fraction of period of interest periods per year\n",
    "        - n : number of years\n",
    "    Returns:\n",
    "        float: PMT value\n",
    "    \"\"\"\n",
    "    nper = per * fper # number of periodic payment\n",
    "    pir = rate / fper # Periodic Interest Rate\n",
    "    PMT = (Pv * pir) / (1 - (1 + pir)**(-nper))\n",
    "\n",
    "    return -PMT\n",
    "\n",
    "\n",
    "\n",
    "def IPMT(c:int, r:float, per:int, fper:int, pv:int):    \n",
    "    \"\"\"Calculate IPMT\n",
    "    Args:\n",
    "        - c is PMT()\n",
    "        - r is Annual Rate\n",
    "        - per is Payment Number\n",
    "        - pv is Present Value\n",
    "    Returns:\n",
    "        float: IPMT value\n",
    "    \"\"\"\n",
    "     \n",
    "    pir = r / fper # Periodic Interest Rate\n",
    "    \n",
    "    \n",
    "    IPMT = -(c * ((1 + pir)**(per-1) - 1) / pir + pv * (1 + pir)**(per-1)) * pir\n",
    "\n",
    "    return IPMT\n",
    "\n",
    "\n",
    "def PPMT(c:int, r:float, per:int, fper:int, pv:int):\n",
    "    \"\"\"Calculate PPMT\n",
    "    Args:\n",
    "        - c is PMT()\n",
    "        - r is Rate\n",
    "        - per is Payment Number\n",
    "        - pv is Present Value\n",
    "    Returns:\n",
    "        float: PPMT value\n",
    "    \"\"\"\n",
    "    \n",
    "    PIR = r / fper # Periodic Interest Rate\n",
    "    \n",
    "    ppmt = c+(c * ((1 + PIR)**(per-1) - 1) / PIR + pv * (1 + PIR)**(per-1)) * PIR\n",
    "\n",
    "    return ppmt"
   ]
  },
  {
   "cell_type": "markdown",
   "metadata": {},
   "source": [
    "## Global Variables"
   ]
  },
  {
   "cell_type": "code",
   "execution_count": 5,
   "metadata": {},
   "outputs": [],
   "source": [
    "Pv1 = 100000\n",
    "r1 = 0.0300\n",
    "fper1 = 12\n",
    "per1 = 25\n",
    "n1 = 300"
   ]
  },
  {
   "cell_type": "code",
   "execution_count": 4,
   "metadata": {},
   "outputs": [
    {
     "name": "stdout",
     "output_type": "stream",
     "text": [
      "-1430.4480079117482\n",
      "-3.6265046541130963\n",
      "-1426.821503257635\n"
     ]
    }
   ],
   "source": [
    "pmt = PMT(Pv=Pv1, rate=r1, per=per1, fper=fper1 ) \n",
    "ipmt = IPMT(c=pmt, r=r1, per=n1, fper=fper1, pv=Pv1) \n",
    "ppmt = PPMT(c=pmt, r=r1, per=n1, fper=fper1, pv=Pv1) \n",
    "\n",
    "print( pmt )\n",
    "print( ipmt)\n",
    "print( ppmt )"
   ]
  }
 ],
 "metadata": {
  "kernelspec": {
   "display_name": ".venv",
   "language": "python",
   "name": "python3"
  },
  "language_info": {
   "codemirror_mode": {
    "name": "ipython",
    "version": 3
   },
   "file_extension": ".py",
   "mimetype": "text/x-python",
   "name": "python",
   "nbconvert_exporter": "python",
   "pygments_lexer": "ipython3",
   "version": "3.12.8"
  }
 },
 "nbformat": 4,
 "nbformat_minor": 2
}
