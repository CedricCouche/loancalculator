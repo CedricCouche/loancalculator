{
 "cells": [
  {
   "cell_type": "markdown",
   "metadata": {},
   "source": [
    "# Loan calculator\n",
    "\n",
    "Version 1.0"
   ]
  },
  {
   "cell_type": "markdown",
   "metadata": {},
   "source": [
    "## Imports"
   ]
  },
  {
   "cell_type": "code",
   "execution_count": 50,
   "metadata": {},
   "outputs": [],
   "source": [
    "import numpy as np\n",
    "import matplotlib.pyplot as plt\n",
    "%matplotlib inline"
   ]
  },
  {
   "cell_type": "markdown",
   "metadata": {},
   "source": [
    "## Functions"
   ]
  },
  {
   "cell_type": "code",
   "execution_count": 32,
   "metadata": {},
   "outputs": [],
   "source": [
    "def PMT(c:int =1000, r:float=1.0, per:int=1, fper:int=1):\n",
    "    \"\"\" Calculates the payment for a loan based on constant payments and a constant interest rate.\n",
    "    Args:\n",
    "        - Pv : Present Value (starting value of the loan)\n",
    "        - r : Annual Percent Rate (APR)\n",
    "        - fn : fraction of period of interest periods per year\n",
    "        - n : number of years\n",
    "    Returns:\n",
    "        float: PMT value\n",
    "    \"\"\"\n",
    "    nper = per * fper # number of periodic payment\n",
    "    pir = r / fper # Periodic Interest Rate\n",
    "    PMT = (c * pir) / (1 - (1 + pir)**(-nper))\n",
    "\n",
    "    return -PMT\n",
    "\n",
    "\n",
    "\n",
    "def IPMT(pmt:int, r:float, per:int, fper:int, c:int):    \n",
    "    \"\"\"Calculate IPMT\n",
    "    Args:\n",
    "        - c is PMT()\n",
    "        - r is Annual Rate\n",
    "        - per is Payment Number\n",
    "        - pv is Present Value\n",
    "    Returns:\n",
    "        float: IPMT value\n",
    "    \"\"\"\n",
    "     \n",
    "    pir = r / fper # Periodic Interest Rate\n",
    "    \n",
    "    \n",
    "    IPMT = -(pmt * ((1 + pir)**(per-1) - 1) / pir + c * (1 + pir)**(per-1)) * pir\n",
    "\n",
    "    return IPMT\n",
    "\n",
    "\n",
    "def PPMT(pmt:int, r:float, per:int, fper:int, c:int):\n",
    "    \"\"\"Calculate PPMT\n",
    "    Args:\n",
    "        - c is PMT()\n",
    "        - r is Rate\n",
    "        - per is Payment Number\n",
    "        - pv is Present Value\n",
    "    Returns:\n",
    "        float: PPMT value\n",
    "    \"\"\"\n",
    "    \n",
    "    pir = r / fper # Periodic Interest Rate\n",
    "    \n",
    "    ppmt = pmt+(pmt * ((1 + pir)**(per-1) - 1) / pir + c * (1 + pir)**(per-1)) * pir\n",
    "\n",
    "    return ppmt"
   ]
  },
  {
   "cell_type": "markdown",
   "metadata": {},
   "source": [
    "## Global Variables"
   ]
  },
  {
   "cell_type": "code",
   "execution_count": 26,
   "metadata": {},
   "outputs": [],
   "source": [
    "c1 = 100000\n",
    "r1 = 0.0300\n",
    "fper1 = 12\n",
    "per1 = 25\n",
    "n1 = 300"
   ]
  },
  {
   "cell_type": "code",
   "execution_count": 34,
   "metadata": {},
   "outputs": [
    {
     "name": "stdout",
     "output_type": "stream",
     "text": [
      "-474.21131385767984\n",
      "-1.1825718550066087\n",
      "-473.02874200267325\n"
     ]
    }
   ],
   "source": [
    "pmt1 = PMT(c=c1, r=r1, per=per1, fper=fper1 ) \n",
    "ipmt1 = IPMT(pmt=pmt1, r=r1, per=n1, fper=fper1, c=Pv1) \n",
    "ppmt1 = PPMT(pmt=pmt1, r=r1, per=n1, fper=fper1, c=Pv1) \n",
    "\n",
    "print( pmt1 )\n",
    "print( ipmt1)\n",
    "print( ppmt1 )"
   ]
  },
  {
   "cell_type": "code",
   "execution_count": 48,
   "metadata": {},
   "outputs": [],
   "source": [
    "def amort_able(c:int, r:float, per:int, fper:int):\n",
    "    \"\"\"_summary_\n",
    "    Args:\n",
    "        Where c is PMT()\n",
    "        Where r is Rate\n",
    "        Where per is Payment Number\n",
    "        Where pv is Present Value\n",
    "    Returns:\n",
    "        _type_: _description_\n",
    "    \"\"\"\n",
    "    \n",
    "    pmt = PMT(c=c, r=r, per=per, fper=fper ) \n",
    "    \n",
    "    nper = per * fper # number of periodic payment\n",
    "    \n",
    "    list_per = []\n",
    "    list_ipmt = []\n",
    "    list_ppmt = []\n",
    "    \n",
    "    for i in range(nper):\n",
    "        \n",
    "        ipmt = IPMT(pmt=pmt, r=r, per=i, fper=fper, c=c) \n",
    "        ppmt = PPMT(pmt=pmt, r=r, per=i, fper=fper, c=c) \n",
    "        \n",
    "        list_per.append(i)\n",
    "        list_ipmt.append(-ipmt)\n",
    "        list_ppmt.append(-ppmt)\n",
    "    \n",
    "    return list_per, list_ipmt, list_ppmt"
   ]
  },
  {
   "cell_type": "code",
   "execution_count": 56,
   "metadata": {},
   "outputs": [
    {
     "data": {
      "image/png": "[encoded data removed]",
      "text/plain": [
       "<Figure size 640x480 with 1 Axes>"
      ]
     },
     "metadata": {},
     "output_type": "display_data"
    }
   ],
   "source": [
    "list_per, list_ipmt, list_ppmt = amort_able(c=c1, r=r1, per=per1, fper=fper1)\n",
    "\n",
    "\n",
    "plt.plot(list_ipmt, label='ipmt')\n",
    "plt.plot(list_ppmt, label='ppmt')\n",
    "\n",
    "plt.legend();"
   ]
  }
 ],
 "metadata": {
  "kernelspec": {
   "display_name": ".venv",
   "language": "python",
   "name": "python3"
  },
  "language_info": {
   "codemirror_mode": {
    "name": "ipython",
    "version": 3
   },
   "file_extension": ".py",
   "mimetype": "text/x-python",
   "name": "python",
   "nbconvert_exporter": "python",
   "pygments_lexer": "ipython3",
   "version": "3.12.8"
  }
 },
 "nbformat": 4,
 "nbformat_minor": 2
}
